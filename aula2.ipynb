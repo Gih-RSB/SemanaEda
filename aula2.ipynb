{
 "cells": [
  {
   "cell_type": "markdown",
   "metadata": {},
   "source": [
    "### Objetivo: usar a ia na sala de aula, gerando mscs nerds com ritmos q os alunos terao uma experiencia imersiva na aula"
   ]
  },
  {
   "cell_type": "code",
   "execution_count": 1,
   "metadata": {},
   "outputs": [],
   "source": [
    "import pandas as pd"
   ]
  },
  {
   "cell_type": "code",
   "execution_count": 2,
   "metadata": {},
   "outputs": [
    {
     "data": {
      "text/html": [
       "<div>\n",
       "<style scoped>\n",
       "    .dataframe tbody tr th:only-of-type {\n",
       "        vertical-align: middle;\n",
       "    }\n",
       "\n",
       "    .dataframe tbody tr th {\n",
       "        vertical-align: top;\n",
       "    }\n",
       "\n",
       "    .dataframe thead th {\n",
       "        text-align: right;\n",
       "    }\n",
       "</style>\n",
       "<table border=\"1\" class=\"dataframe\">\n",
       "  <thead>\n",
       "    <tr style=\"text-align: right;\">\n",
       "      <th></th>\n",
       "      <th>Carimbo de data/hora</th>\n",
       "      <th>Avalie os estilos musicais [rock]</th>\n",
       "      <th>Avalie os estilos musicais [hip hop]</th>\n",
       "      <th>Avalie os estilos musicais [mpb]</th>\n",
       "      <th>Avalie os estilos musicais [reggae]</th>\n",
       "      <th>Avalie os estilos musicais [funk]</th>\n",
       "      <th>Avalie os estilos musicais [sertanejo]</th>\n",
       "      <th>Avalie os estilos musicais [gospel]</th>\n",
       "      <th>Avalie os estilos musicais [eletrônica]</th>\n",
       "    </tr>\n",
       "  </thead>\n",
       "  <tbody>\n",
       "    <tr>\n",
       "      <th>0</th>\n",
       "      <td>21/08/2024 10:03:25</td>\n",
       "      <td>3</td>\n",
       "      <td>1</td>\n",
       "      <td>1</td>\n",
       "      <td>1</td>\n",
       "      <td>1</td>\n",
       "      <td>1</td>\n",
       "      <td>1</td>\n",
       "      <td>3</td>\n",
       "    </tr>\n",
       "    <tr>\n",
       "      <th>1</th>\n",
       "      <td>21/08/2024 10:04:39</td>\n",
       "      <td>5</td>\n",
       "      <td>3</td>\n",
       "      <td>5</td>\n",
       "      <td>2</td>\n",
       "      <td>1</td>\n",
       "      <td>3</td>\n",
       "      <td>1</td>\n",
       "      <td>5</td>\n",
       "    </tr>\n",
       "    <tr>\n",
       "      <th>2</th>\n",
       "      <td>21/08/2024 10:04:52</td>\n",
       "      <td>1</td>\n",
       "      <td>5</td>\n",
       "      <td>1</td>\n",
       "      <td>1</td>\n",
       "      <td>1</td>\n",
       "      <td>1</td>\n",
       "      <td>1</td>\n",
       "      <td>5</td>\n",
       "    </tr>\n",
       "    <tr>\n",
       "      <th>3</th>\n",
       "      <td>21/08/2024 10:04:53</td>\n",
       "      <td>1</td>\n",
       "      <td>5</td>\n",
       "      <td>4</td>\n",
       "      <td>4</td>\n",
       "      <td>4</td>\n",
       "      <td>1</td>\n",
       "      <td>1</td>\n",
       "      <td>5</td>\n",
       "    </tr>\n",
       "    <tr>\n",
       "      <th>4</th>\n",
       "      <td>21/08/2024 10:04:55</td>\n",
       "      <td>5</td>\n",
       "      <td>4</td>\n",
       "      <td>3</td>\n",
       "      <td>4</td>\n",
       "      <td>1</td>\n",
       "      <td>1</td>\n",
       "      <td>2</td>\n",
       "      <td>5</td>\n",
       "    </tr>\n",
       "    <tr>\n",
       "      <th>5</th>\n",
       "      <td>21/08/2024 10:05:26</td>\n",
       "      <td>5</td>\n",
       "      <td>2</td>\n",
       "      <td>2</td>\n",
       "      <td>2</td>\n",
       "      <td>1</td>\n",
       "      <td>1</td>\n",
       "      <td>2</td>\n",
       "      <td>4</td>\n",
       "    </tr>\n",
       "    <tr>\n",
       "      <th>6</th>\n",
       "      <td>21/08/2024 10:05:41</td>\n",
       "      <td>2</td>\n",
       "      <td>4</td>\n",
       "      <td>4</td>\n",
       "      <td>1</td>\n",
       "      <td>4</td>\n",
       "      <td>4</td>\n",
       "      <td>1</td>\n",
       "      <td>3</td>\n",
       "    </tr>\n",
       "    <tr>\n",
       "      <th>7</th>\n",
       "      <td>21/08/2024 10:06:14</td>\n",
       "      <td>5</td>\n",
       "      <td>3</td>\n",
       "      <td>3</td>\n",
       "      <td>3</td>\n",
       "      <td>1</td>\n",
       "      <td>2</td>\n",
       "      <td>3</td>\n",
       "      <td>4</td>\n",
       "    </tr>\n",
       "    <tr>\n",
       "      <th>8</th>\n",
       "      <td>21/08/2024 10:07:16</td>\n",
       "      <td>4</td>\n",
       "      <td>4</td>\n",
       "      <td>4</td>\n",
       "      <td>1</td>\n",
       "      <td>4</td>\n",
       "      <td>4</td>\n",
       "      <td>1</td>\n",
       "      <td>4</td>\n",
       "    </tr>\n",
       "    <tr>\n",
       "      <th>9</th>\n",
       "      <td>21/08/2024 10:07:26</td>\n",
       "      <td>5</td>\n",
       "      <td>5</td>\n",
       "      <td>1</td>\n",
       "      <td>3</td>\n",
       "      <td>4</td>\n",
       "      <td>1</td>\n",
       "      <td>1</td>\n",
       "      <td>3</td>\n",
       "    </tr>\n",
       "    <tr>\n",
       "      <th>10</th>\n",
       "      <td>21/08/2024 10:07:31</td>\n",
       "      <td>3</td>\n",
       "      <td>2</td>\n",
       "      <td>5</td>\n",
       "      <td>4</td>\n",
       "      <td>3</td>\n",
       "      <td>4</td>\n",
       "      <td>4</td>\n",
       "      <td>2</td>\n",
       "    </tr>\n",
       "    <tr>\n",
       "      <th>11</th>\n",
       "      <td>21/08/2024 10:08:37</td>\n",
       "      <td>4</td>\n",
       "      <td>1</td>\n",
       "      <td>5</td>\n",
       "      <td>1</td>\n",
       "      <td>1</td>\n",
       "      <td>2</td>\n",
       "      <td>5</td>\n",
       "      <td>1</td>\n",
       "    </tr>\n",
       "    <tr>\n",
       "      <th>12</th>\n",
       "      <td>21/08/2024 10:38:46</td>\n",
       "      <td>5</td>\n",
       "      <td>1</td>\n",
       "      <td>3</td>\n",
       "      <td>1</td>\n",
       "      <td>1</td>\n",
       "      <td>1</td>\n",
       "      <td>1</td>\n",
       "      <td>4</td>\n",
       "    </tr>\n",
       "    <tr>\n",
       "      <th>13</th>\n",
       "      <td>21/08/2024 10:58:52</td>\n",
       "      <td>5</td>\n",
       "      <td>5</td>\n",
       "      <td>1</td>\n",
       "      <td>1</td>\n",
       "      <td>1</td>\n",
       "      <td>1</td>\n",
       "      <td>1</td>\n",
       "      <td>4</td>\n",
       "    </tr>\n",
       "  </tbody>\n",
       "</table>\n",
       "</div>"
      ],
      "text/plain": [
       "   Carimbo de data/hora  Avalie os estilos musicais [rock]  \\\n",
       "0   21/08/2024 10:03:25                                  3   \n",
       "1   21/08/2024 10:04:39                                  5   \n",
       "2   21/08/2024 10:04:52                                  1   \n",
       "3   21/08/2024 10:04:53                                  1   \n",
       "4   21/08/2024 10:04:55                                  5   \n",
       "5   21/08/2024 10:05:26                                  5   \n",
       "6   21/08/2024 10:05:41                                  2   \n",
       "7   21/08/2024 10:06:14                                  5   \n",
       "8   21/08/2024 10:07:16                                  4   \n",
       "9   21/08/2024 10:07:26                                  5   \n",
       "10  21/08/2024 10:07:31                                  3   \n",
       "11  21/08/2024 10:08:37                                  4   \n",
       "12  21/08/2024 10:38:46                                  5   \n",
       "13  21/08/2024 10:58:52                                  5   \n",
       "\n",
       "    Avalie os estilos musicais [hip hop]  Avalie os estilos musicais [mpb]  \\\n",
       "0                                      1                                 1   \n",
       "1                                      3                                 5   \n",
       "2                                      5                                 1   \n",
       "3                                      5                                 4   \n",
       "4                                      4                                 3   \n",
       "5                                      2                                 2   \n",
       "6                                      4                                 4   \n",
       "7                                      3                                 3   \n",
       "8                                      4                                 4   \n",
       "9                                      5                                 1   \n",
       "10                                     2                                 5   \n",
       "11                                     1                                 5   \n",
       "12                                     1                                 3   \n",
       "13                                     5                                 1   \n",
       "\n",
       "    Avalie os estilos musicais [reggae]  Avalie os estilos musicais [funk]  \\\n",
       "0                                     1                                  1   \n",
       "1                                     2                                  1   \n",
       "2                                     1                                  1   \n",
       "3                                     4                                  4   \n",
       "4                                     4                                  1   \n",
       "5                                     2                                  1   \n",
       "6                                     1                                  4   \n",
       "7                                     3                                  1   \n",
       "8                                     1                                  4   \n",
       "9                                     3                                  4   \n",
       "10                                    4                                  3   \n",
       "11                                    1                                  1   \n",
       "12                                    1                                  1   \n",
       "13                                    1                                  1   \n",
       "\n",
       "    Avalie os estilos musicais [sertanejo]  \\\n",
       "0                                        1   \n",
       "1                                        3   \n",
       "2                                        1   \n",
       "3                                        1   \n",
       "4                                        1   \n",
       "5                                        1   \n",
       "6                                        4   \n",
       "7                                        2   \n",
       "8                                        4   \n",
       "9                                        1   \n",
       "10                                       4   \n",
       "11                                       2   \n",
       "12                                       1   \n",
       "13                                       1   \n",
       "\n",
       "    Avalie os estilos musicais [gospel]  \\\n",
       "0                                     1   \n",
       "1                                     1   \n",
       "2                                     1   \n",
       "3                                     1   \n",
       "4                                     2   \n",
       "5                                     2   \n",
       "6                                     1   \n",
       "7                                     3   \n",
       "8                                     1   \n",
       "9                                     1   \n",
       "10                                    4   \n",
       "11                                    5   \n",
       "12                                    1   \n",
       "13                                    1   \n",
       "\n",
       "    Avalie os estilos musicais [eletrônica]  \n",
       "0                                         3  \n",
       "1                                         5  \n",
       "2                                         5  \n",
       "3                                         5  \n",
       "4                                         5  \n",
       "5                                         4  \n",
       "6                                         3  \n",
       "7                                         4  \n",
       "8                                         4  \n",
       "9                                         3  \n",
       "10                                        2  \n",
       "11                                        1  \n",
       "12                                        4  \n",
       "13                                        4  "
      ]
     },
     "execution_count": 2,
     "metadata": {},
     "output_type": "execute_result"
    }
   ],
   "source": [
    "pp = pd.read_csv ('dataset2/pesquisa.csv')\n",
    "pp"
   ]
  },
  {
   "cell_type": "code",
   "execution_count": 3,
   "metadata": {},
   "outputs": [
    {
     "data": {
      "text/plain": [
       "Index(['Carimbo de data/hora', 'Avalie os estilos musicais [rock]',\n",
       "       'Avalie os estilos musicais [hip hop]',\n",
       "       'Avalie os estilos musicais [mpb]',\n",
       "       'Avalie os estilos musicais [reggae]',\n",
       "       'Avalie os estilos musicais [funk]',\n",
       "       'Avalie os estilos musicais [sertanejo]',\n",
       "       'Avalie os estilos musicais [gospel]',\n",
       "       'Avalie os estilos musicais [eletrônica]'],\n",
       "      dtype='object')"
      ]
     },
     "execution_count": 3,
     "metadata": {},
     "output_type": "execute_result"
    }
   ],
   "source": [
    "pp.columns"
   ]
  },
  {
   "cell_type": "code",
   "execution_count": 4,
   "metadata": {},
   "outputs": [
    {
     "data": {
      "text/plain": [
       "9"
      ]
     },
     "execution_count": 4,
     "metadata": {},
     "output_type": "execute_result"
    }
   ],
   "source": [
    "len(pp.columns)\n"
   ]
  },
  {
   "cell_type": "code",
   "execution_count": 5,
   "metadata": {},
   "outputs": [
    {
     "data": {
      "text/plain": [
       "Index(['numero', 'carimbo', 'rock', 'hip hop', 'mpb', 'reggae', 'sertanejo',\n",
       "       'gospel', 'eletronica'],\n",
       "      dtype='object')"
      ]
     },
     "execution_count": 5,
     "metadata": {},
     "output_type": "execute_result"
    }
   ],
   "source": [
    "pp.columns = ['numero','carimbo', 'rock', 'hip hop', 'mpb', 'reggae', 'sertanejo', 'gospel', 'eletronica']\n",
    "pp.columns"
   ]
  },
  {
   "cell_type": "code",
   "execution_count": 6,
   "metadata": {},
   "outputs": [
    {
     "data": {
      "text/plain": [
       "pandas.core.frame.DataFrame"
      ]
     },
     "execution_count": 6,
     "metadata": {},
     "output_type": "execute_result"
    }
   ],
   "source": [
    "type(pp)"
   ]
  },
  {
   "cell_type": "code",
   "execution_count": 7,
   "metadata": {},
   "outputs": [],
   "source": [
    "pp = pp.drop(columns=['numero'])\n"
   ]
  },
  {
   "cell_type": "code",
   "execution_count": 8,
   "metadata": {},
   "outputs": [],
   "source": [
    "inplace=True"
   ]
  },
  {
   "cell_type": "code",
   "execution_count": 9,
   "metadata": {},
   "outputs": [],
   "source": [
    "import seaborn as sns"
   ]
  },
  {
   "cell_type": "code",
   "execution_count": 10,
   "metadata": {},
   "outputs": [
    {
     "name": "stdout",
     "output_type": "stream",
     "text": [
      "   carimbo  rock  hip hop  mpb  reggae  sertanejo  gospel  eletronica\n",
      "0        3     1        1    1       1          1       1           3\n",
      "1        5     3        5    2       1          3       1           5\n",
      "2        1     5        1    1       1          1       1           5\n",
      "3        1     5        4    4       4          1       1           5\n",
      "4        5     4        3    4       1          1       2           5\n",
      "Index(['carimbo', 'rock', 'hip hop', 'mpb', 'reggae', 'sertanejo', 'gospel',\n",
      "       'eletronica'],\n",
      "      dtype='object')\n"
     ]
    }
   ],
   "source": [
    "print(pp.head())  # Mostra as primeiras linhas do DataFrame\n",
    "print(pp.columns)  # Mostra os nomes das colunas"
   ]
  },
  {
   "cell_type": "code",
   "execution_count": 11,
   "metadata": {},
   "outputs": [
    {
     "data": {
      "text/plain": [
       "rock\n",
       "1    1.00\n",
       "2    3.00\n",
       "3    2.50\n",
       "4    2.00\n",
       "5    2.25\n",
       "Name: mpb, dtype: float64"
      ]
     },
     "execution_count": 11,
     "metadata": {},
     "output_type": "execute_result"
    }
   ],
   "source": [
    "estilos = pp.groupby(\"rock\").mean()['mpb']\n",
    "estilos "
   ]
  },
  {
   "cell_type": "code",
   "execution_count": 12,
   "metadata": {},
   "outputs": [
    {
     "data": {
      "text/plain": [
       "<Axes: ylabel='Frequency'>"
      ]
     },
     "execution_count": 12,
     "metadata": {},
     "output_type": "execute_result"
    },
    {
     "data": {
      "image/png": "[encoded data removed]",
      "text/plain": [
       "<Figure size 640x480 with 1 Axes>"
      ]
     },
     "metadata": {},
     "output_type": "display_data"
    }
   ],
   "source": [
    "pp.plot(kind='hist')"
   ]
  },
  {
   "cell_type": "code",
   "execution_count": 26,
   "metadata": {},
   "outputs": [
    {
     "data": {
      "text/plain": [
       "<Axes: >"
      ]
     },
     "execution_count": 26,
     "metadata": {},
     "output_type": "execute_result"
    },
    {
     "data": {
      "image/png": "[encoded data removed]",
      "text/plain": [
       "<Figure size 640x480 with 1 Axes>"
      ]
     },
     "metadata": {},
     "output_type": "display_data"
    }
   ],
   "source": [
    "pp.plot(kind='barh')"
   ]
  },
  {
   "cell_type": "code",
   "execution_count": 20,
   "metadata": {},
   "outputs": [
    {
     "data": {
      "text/plain": [
       "<Axes: ylabel='Count'>"
      ]
     },
     "execution_count": 20,
     "metadata": {},
     "output_type": "execute_result"
    },
    {
     "data": {
      "image/png": "[encoded data removed]",
      "text/plain": [
       "<Figure size 640x480 with 1 Axes>"
      ]
     },
     "metadata": {},
     "output_type": "display_data"
    }
   ],
   "source": [
    "sns.histplot(pp, kde = True,bins = 10)"
   ]
  },
  {
   "cell_type": "code",
   "execution_count": 14,
   "metadata": {},
   "outputs": [
    {
     "data": {
      "text/html": [
       "<div>\n",
       "<style scoped>\n",
       "    .dataframe tbody tr th:only-of-type {\n",
       "        vertical-align: middle;\n",
       "    }\n",
       "\n",
       "    .dataframe tbody tr th {\n",
       "        vertical-align: top;\n",
       "    }\n",
       "\n",
       "    .dataframe thead th {\n",
       "        text-align: right;\n",
       "    }\n",
       "</style>\n",
       "<table border=\"1\" class=\"dataframe\">\n",
       "  <thead>\n",
       "    <tr style=\"text-align: right;\">\n",
       "      <th></th>\n",
       "      <th>carimbo</th>\n",
       "      <th>rock</th>\n",
       "      <th>hip hop</th>\n",
       "      <th>mpb</th>\n",
       "      <th>reggae</th>\n",
       "      <th>sertanejo</th>\n",
       "      <th>gospel</th>\n",
       "      <th>eletronica</th>\n",
       "    </tr>\n",
       "  </thead>\n",
       "  <tbody>\n",
       "    <tr>\n",
       "      <th>count</th>\n",
       "      <td>14.000000</td>\n",
       "      <td>14.000000</td>\n",
       "      <td>14.000000</td>\n",
       "      <td>14.000000</td>\n",
       "      <td>14.000000</td>\n",
       "      <td>14.000000</td>\n",
       "      <td>14.000000</td>\n",
       "      <td>14.000000</td>\n",
       "    </tr>\n",
       "    <tr>\n",
       "      <th>mean</th>\n",
       "      <td>3.785714</td>\n",
       "      <td>3.214286</td>\n",
       "      <td>3.000000</td>\n",
       "      <td>2.071429</td>\n",
       "      <td>2.000000</td>\n",
       "      <td>1.928571</td>\n",
       "      <td>1.785714</td>\n",
       "      <td>3.714286</td>\n",
       "    </tr>\n",
       "    <tr>\n",
       "      <th>std</th>\n",
       "      <td>1.528125</td>\n",
       "      <td>1.577660</td>\n",
       "      <td>1.568929</td>\n",
       "      <td>1.268814</td>\n",
       "      <td>1.414214</td>\n",
       "      <td>1.268814</td>\n",
       "      <td>1.311404</td>\n",
       "      <td>1.204388</td>\n",
       "    </tr>\n",
       "    <tr>\n",
       "      <th>min</th>\n",
       "      <td>1.000000</td>\n",
       "      <td>1.000000</td>\n",
       "      <td>1.000000</td>\n",
       "      <td>1.000000</td>\n",
       "      <td>1.000000</td>\n",
       "      <td>1.000000</td>\n",
       "      <td>1.000000</td>\n",
       "      <td>1.000000</td>\n",
       "    </tr>\n",
       "    <tr>\n",
       "      <th>25%</th>\n",
       "      <td>3.000000</td>\n",
       "      <td>2.000000</td>\n",
       "      <td>1.250000</td>\n",
       "      <td>1.000000</td>\n",
       "      <td>1.000000</td>\n",
       "      <td>1.000000</td>\n",
       "      <td>1.000000</td>\n",
       "      <td>3.000000</td>\n",
       "    </tr>\n",
       "    <tr>\n",
       "      <th>50%</th>\n",
       "      <td>4.500000</td>\n",
       "      <td>3.500000</td>\n",
       "      <td>3.000000</td>\n",
       "      <td>1.500000</td>\n",
       "      <td>1.000000</td>\n",
       "      <td>1.000000</td>\n",
       "      <td>1.000000</td>\n",
       "      <td>4.000000</td>\n",
       "    </tr>\n",
       "    <tr>\n",
       "      <th>75%</th>\n",
       "      <td>5.000000</td>\n",
       "      <td>4.750000</td>\n",
       "      <td>4.000000</td>\n",
       "      <td>3.000000</td>\n",
       "      <td>3.750000</td>\n",
       "      <td>2.750000</td>\n",
       "      <td>2.000000</td>\n",
       "      <td>4.750000</td>\n",
       "    </tr>\n",
       "    <tr>\n",
       "      <th>max</th>\n",
       "      <td>5.000000</td>\n",
       "      <td>5.000000</td>\n",
       "      <td>5.000000</td>\n",
       "      <td>4.000000</td>\n",
       "      <td>4.000000</td>\n",
       "      <td>4.000000</td>\n",
       "      <td>5.000000</td>\n",
       "      <td>5.000000</td>\n",
       "    </tr>\n",
       "  </tbody>\n",
       "</table>\n",
       "</div>"
      ],
      "text/plain": [
       "         carimbo       rock    hip hop        mpb     reggae  sertanejo  \\\n",
       "count  14.000000  14.000000  14.000000  14.000000  14.000000  14.000000   \n",
       "mean    3.785714   3.214286   3.000000   2.071429   2.000000   1.928571   \n",
       "std     1.528125   1.577660   1.568929   1.268814   1.414214   1.268814   \n",
       "min     1.000000   1.000000   1.000000   1.000000   1.000000   1.000000   \n",
       "25%     3.000000   2.000000   1.250000   1.000000   1.000000   1.000000   \n",
       "50%     4.500000   3.500000   3.000000   1.500000   1.000000   1.000000   \n",
       "75%     5.000000   4.750000   4.000000   3.000000   3.750000   2.750000   \n",
       "max     5.000000   5.000000   5.000000   4.000000   4.000000   4.000000   \n",
       "\n",
       "          gospel  eletronica  \n",
       "count  14.000000   14.000000  \n",
       "mean    1.785714    3.714286  \n",
       "std     1.311404    1.204388  \n",
       "min     1.000000    1.000000  \n",
       "25%     1.000000    3.000000  \n",
       "50%     1.000000    4.000000  \n",
       "75%     2.000000    4.750000  \n",
       "max     5.000000    5.000000  "
      ]
     },
     "execution_count": 14,
     "metadata": {},
     "output_type": "execute_result"
    }
   ],
   "source": [
    "pp.describe()"
   ]
  },
  {
   "cell_type": "code",
   "execution_count": 15,
   "metadata": {},
   "outputs": [
    {
     "data": {
      "text/plain": [
       "<Axes: xlabel='mpb'>"
      ]
     },
     "execution_count": 15,
     "metadata": {},
     "output_type": "execute_result"
    },
    {
     "data": {
      "image/png": "[encoded data removed]",
      "text/plain": [
       "<Figure size 640x480 with 1 Axes>"
      ]
     },
     "metadata": {},
     "output_type": "display_data"
    }
   ],
   "source": [
    "sns.boxplot (x=estilos)"
   ]
  }
 ],
 "metadata": {
  "kernelspec": {
   "display_name": ".venv",
   "language": "python",
   "name": "python3"
  },
  "language_info": {
   "codemirror_mode": {
    "name": "ipython",
    "version": 3
   },
   "file_extension": ".py",
   "mimetype": "text/x-python",
   "name": "python",
   "nbconvert_exporter": "python",
   "pygments_lexer": "ipython3",
   "version": "3.12.5"
  }
 },
 "nbformat": 4,
 "nbformat_minor": 2
}
